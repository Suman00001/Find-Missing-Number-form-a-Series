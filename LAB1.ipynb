{
  "cells": [
    {
      "cell_type": "markdown",
      "metadata": {
        "id": "view-in-github",
        "colab_type": "text"
      },
      "source": [
        "<a href=\"https://colab.research.google.com/github/Suman00001/Find-Missing-Number-form-a-Series/blob/main/LAB1.ipynb\" target=\"_parent\"><img src=\"https://colab.research.google.com/assets/colab-badge.svg\" alt=\"Open In Colab\"/></a>"
      ]
    },
    {
      "cell_type": "code",
      "execution_count": null,
      "metadata": {
        "id": "qkgATuq1CaSN"
      },
      "outputs": [],
      "source": [
        "import matplotlib.pyplot as plt\n",
        "import math\n",
        "import numpy as np"
      ]
    },
    {
      "cell_type": "code",
      "execution_count": null,
      "metadata": {
        "id": "Jbq9QvE8PJ-b"
      },
      "outputs": [],
      "source": [
        "def geometric(x, p):\n",
        "    '''\n",
        "    Function to plot a geometric distribution graph\n",
        "    params:\n",
        "        x: number of times the event does not occur before the first success (the trial number on which the first success occurs)\n",
        "        p: probability of an event occurring on each trial (probability of success). It must be a number between 0 and 1.\n",
        "    return: probability of success occurring on the x-th trial\n",
        "    '''\n",
        "    x = int(x)\n",
        "    if x < 1:\n",
        "        raise ValueError(\"The number must be positive!\")\n",
        "\n",
        "    if p < 0 and p > 1:\n",
        "        raise ValueError(\"The probability should be between 0 and 1\")\n",
        "\n",
        "    probability = (1 - p) ** (x - 1) * p\n",
        "    return probability"
      ]
    },
    {
      "cell_type": "markdown",
      "source": [
        "# **Bionomial Random Variables**"
      ],
      "metadata": {
        "id": "0Cvcg5pjURyW"
      }
    },
    {
      "cell_type": "code",
      "source": [
        "print(\"Bionomial Random Variables\")"
      ],
      "metadata": {
        "id": "6qSoFHrgUf-4",
        "outputId": "755ad073-909c-42eb-ed43-bfa0462f5d98",
        "colab": {
          "base_uri": "https://localhost:8080/"
        }
      },
      "execution_count": 2,
      "outputs": [
        {
          "output_type": "stream",
          "name": "stdout",
          "text": [
            "Bionomial Random Variables\n"
          ]
        }
      ]
    },
    {
      "cell_type": "code",
      "execution_count": null,
      "metadata": {
        "id": "wmlF_hEzPJ-d"
      },
      "outputs": [],
      "source": []
    },
    {
      "cell_type": "code",
      "source": [],
      "metadata": {
        "id": "JGKOBoDiTZiB"
      },
      "execution_count": null,
      "outputs": []
    },
    {
      "cell_type": "markdown",
      "source": [
        "# **Poisson Random Variables**"
      ],
      "metadata": {
        "id": "AfhLMrKfTVF6"
      }
    }
  ],
  "metadata": {
    "colab": {
      "provenance": [],
      "include_colab_link": true
    },
    "kernelspec": {
      "display_name": "Python 3",
      "name": "python3"
    },
    "language_info": {
      "codemirror_mode": {
        "name": "ipython",
        "version": 3
      },
      "file_extension": ".py",
      "mimetype": "text/x-python",
      "name": "python",
      "nbconvert_exporter": "python",
      "pygments_lexer": "ipython3",
      "version": "3.12.7"
    }
  },
  "nbformat": 4,
  "nbformat_minor": 0
}